{
 "cells": [
  {
   "cell_type": "markdown",
   "metadata": {},
   "source": [
    "## Visualize Data from reliance.csv\n"
   ]
  },
  {
   "cell_type": "code",
   "execution_count": 2,
   "metadata": {
    "collapsed": false
   },
   "outputs": [],
   "source": [
    "import pandas as pd\n",
    "from pandas import read_csv\n",
    "from matplotlib import pyplot as plt\n"
   ]
  },
  {
   "cell_type": "code",
   "execution_count": 3,
   "metadata": {
    "collapsed": false
   },
   "outputs": [],
   "source": [
    "% matplotlib inline"
   ]
  },
  {
   "cell_type": "code",
   "execution_count": 4,
   "metadata": {
    "collapsed": false
   },
   "outputs": [
    {
     "name": "stdout",
     "output_type": "stream",
     "text": [
      "\\\\inmbfp1\\redirect1\\G560667\\My Documents\n",
      "C:\\Users\\G560667\\stock-trader\n"
     ]
    }
   ],
   "source": [
    "import os\n",
    "print(os.getcwd())\n",
    "os.chdir('C:\\\\Users\\\\G560667\\\\stock-trader\\\\')\n",
    "print(os.getcwd())"
   ]
  },
  {
   "cell_type": "code",
   "execution_count": 5,
   "metadata": {
    "collapsed": false
   },
   "outputs": [],
   "source": [
    "dataset = read_csv('reliance.csv', header=0, index_col=0)"
   ]
  },
  {
   "cell_type": "code",
   "execution_count": 6,
   "metadata": {
    "collapsed": true
   },
   "outputs": [],
   "source": [
    "values = dataset.values"
   ]
  },
  {
   "cell_type": "code",
   "execution_count": 7,
   "metadata": {
    "collapsed": false
   },
   "outputs": [
    {
     "data": {
      "text/plain": [
       "numpy.ndarray"
      ]
     },
     "execution_count": 7,
     "metadata": {},
     "output_type": "execute_result"
    }
   ],
   "source": [
    "type(values)"
   ]
  },
  {
   "cell_type": "code",
   "execution_count": 8,
   "metadata": {
    "collapsed": true
   },
   "outputs": [],
   "source": [
    "df=pd.DataFrame(dataset)"
   ]
  },
  {
   "cell_type": "code",
   "execution_count": 10,
   "metadata": {
    "collapsed": false
   },
   "outputs": [
    {
     "data": {
      "text/html": [
       "<div>\n",
       "<table border=\"1\" class=\"dataframe\">\n",
       "  <thead>\n",
       "    <tr style=\"text-align: right;\">\n",
       "      <th></th>\n",
       "      <th>Prev Close</th>\n",
       "      <th>Open</th>\n",
       "      <th>High</th>\n",
       "      <th>Close</th>\n",
       "      <th>Low</th>\n",
       "    </tr>\n",
       "    <tr>\n",
       "      <th>Date</th>\n",
       "      <th></th>\n",
       "      <th></th>\n",
       "      <th></th>\n",
       "      <th></th>\n",
       "      <th></th>\n",
       "    </tr>\n",
       "  </thead>\n",
       "  <tbody>\n",
       "    <tr>\n",
       "      <th>2018-01-02</th>\n",
       "      <td>909.75</td>\n",
       "      <td>913.00</td>\n",
       "      <td>919.55</td>\n",
       "      <td>911.15</td>\n",
       "      <td>906.40</td>\n",
       "    </tr>\n",
       "    <tr>\n",
       "      <th>2018-01-03</th>\n",
       "      <td>911.15</td>\n",
       "      <td>925.00</td>\n",
       "      <td>926.00</td>\n",
       "      <td>914.80</td>\n",
       "      <td>913.05</td>\n",
       "    </tr>\n",
       "    <tr>\n",
       "      <th>2018-01-04</th>\n",
       "      <td>914.80</td>\n",
       "      <td>918.15</td>\n",
       "      <td>921.80</td>\n",
       "      <td>920.30</td>\n",
       "      <td>915.70</td>\n",
       "    </tr>\n",
       "    <tr>\n",
       "      <th>2018-01-05</th>\n",
       "      <td>920.30</td>\n",
       "      <td>921.80</td>\n",
       "      <td>926.90</td>\n",
       "      <td>923.25</td>\n",
       "      <td>920.25</td>\n",
       "    </tr>\n",
       "    <tr>\n",
       "      <th>2018-01-08</th>\n",
       "      <td>923.25</td>\n",
       "      <td>926.10</td>\n",
       "      <td>931.00</td>\n",
       "      <td>928.55</td>\n",
       "      <td>923.50</td>\n",
       "    </tr>\n",
       "  </tbody>\n",
       "</table>\n",
       "</div>"
      ],
      "text/plain": [
       "            Prev Close    Open    High   Close     Low\n",
       "Date                                                  \n",
       "2018-01-02      909.75  913.00  919.55  911.15  906.40\n",
       "2018-01-03      911.15  925.00  926.00  914.80  913.05\n",
       "2018-01-04      914.80  918.15  921.80  920.30  915.70\n",
       "2018-01-05      920.30  921.80  926.90  923.25  920.25\n",
       "2018-01-08      923.25  926.10  931.00  928.55  923.50"
      ]
     },
     "execution_count": 10,
     "metadata": {},
     "output_type": "execute_result"
    }
   ],
   "source": [
    "df.tail()"
   ]
  },
  {
   "cell_type": "code",
   "execution_count": 11,
   "metadata": {
    "collapsed": true
   },
   "outputs": [],
   "source": [
    "columns = ['Prev Close', 'Open','High' ,'Close','Low']"
   ]
  },
  {
   "cell_type": "code",
   "execution_count": 12,
   "metadata": {
    "collapsed": false
   },
   "outputs": [],
   "source": [
    "npdataset = read_csv('reliance.csv', header=0, index_col=0)\n",
    "values = dataset.values\n",
    "groups=[1,2,3,4]"
   ]
  },
  {
   "cell_type": "code",
   "execution_count": 14,
   "metadata": {
    "collapsed": false
   },
   "outputs": [
    {
     "data": {
      "image/png": "[encoded data removed]",
      "text/plain": [
       "<matplotlib.figure.Figure at 0x1d691b287b8>"
      ]
     },
     "metadata": {},
     "output_type": "display_data"
    }
   ],
   "source": [
    "i = 1\n",
    "# plot each column\n",
    "plt.figure()\n",
    "for group in groups:\n",
    "    plt.subplot(len(groups), 1, i)\n",
    "    plt.plot(values[:,group])\n",
    "    plt.title(npdataset.columns[group], y=0.5, loc='right')\n",
    "    i += 1\n",
    "plt.show()"
   ]
  },
  {
   "cell_type": "code",
   "execution_count": 15,
   "metadata": {
    "collapsed": true
   },
   "outputs": [],
   "source": [
    "from pandas import concat\n",
    "def series_to_supervised(data, n_in=1, n_out=1, dropnan=True):\n",
    "    n_vars = 1 if type(data) is list else data.shape[1]\n",
    "    df = pd.DataFrame(data)\n",
    "    cols, names = list(), list()\n",
    "    # input sequence (t-n, ... t-1)\n",
    "    for i in range(n_in, 0, -1):\n",
    "        cols.append(df.shift(i))\n",
    "        names += [('var%d(t-%d)' % (j+1, i)) for j in range(n_vars)]\n",
    "    # forecast sequence (t, t+1, ... t+n)\n",
    "    for i in range(0, n_out):\n",
    "        cols.append(df.shift(-i))\n",
    "        if i == 0:\n",
    "            names += [('var%d(t)' % (j+1)) for j in range(n_vars)]\n",
    "        else:\n",
    "            names += [('var%d(t+%d)' % (j+1, i)) for j in range(n_vars)]\n",
    "    # put it all together\n",
    "    agg = concat(cols, axis=1)\n",
    "    agg.columns = names\n",
    "    # drop rows with NaN values\n",
    "    if dropnan:\n",
    "        agg.dropna(inplace=True)\n",
    "    return agg"
   ]
  },
  {
   "cell_type": "code",
   "execution_count": 16,
   "metadata": {
    "collapsed": false
   },
   "outputs": [
    {
     "data": {
      "text/plain": [
       "array([[ 1090.55004883,  1091.09997559,  1091.09997559,  1075.5       ,\n",
       "         1021.84997559],\n",
       "       [ 1075.5       ,  1149.90002441,  1149.90002441,  1070.69995117,\n",
       "         1065.40002441],\n",
       "       [ 1070.69995117,  1079.90002441,  1094.5       ,  1088.        ,\n",
       "         1070.65002441],\n",
       "       ..., \n",
       "       [  914.79998779,   918.15002441,   921.79998779,   920.29998779,\n",
       "          915.70001221],\n",
       "       [  920.29998779,   921.79998779,   926.90002441,   923.25      ,\n",
       "          920.25      ],\n",
       "       [  923.25      ,   926.09997559,   931.        ,   928.54998779,\n",
       "          923.5       ]], dtype=float32)"
      ]
     },
     "execution_count": 16,
     "metadata": {},
     "output_type": "execute_result"
    }
   ],
   "source": [
    "# ensure all data is float\n",
    "values.astype('float32')"
   ]
  },
  {
   "cell_type": "code",
   "execution_count": 17,
   "metadata": {
    "collapsed": true
   },
   "outputs": [],
   "source": [
    "# normalize features\n",
    "from sklearn import preprocessing"
   ]
  },
  {
   "cell_type": "code",
   "execution_count": 18,
   "metadata": {
    "collapsed": false
   },
   "outputs": [],
   "source": [
    "scaler = preprocessing.MinMaxScaler(feature_range=(0, 1))"
   ]
  },
  {
   "cell_type": "code",
   "execution_count": 22,
   "metadata": {
    "collapsed": true
   },
   "outputs": [],
   "source": [
    "scaled = scaler.fit_transform(values)"
   ]
  },
  {
   "cell_type": "code",
   "execution_count": 23,
   "metadata": {
    "collapsed": false
   },
   "outputs": [
    {
     "data": {
      "text/plain": [
       "numpy.ndarray"
      ]
     },
     "execution_count": 23,
     "metadata": {},
     "output_type": "execute_result"
    }
   ],
   "source": [
    "type(scaled)"
   ]
  },
  {
   "cell_type": "code",
   "execution_count": 24,
   "metadata": {
    "collapsed": false
   },
   "outputs": [
    {
     "data": {
      "text/plain": [
       "array([[ 0.42551335,  0.42115385,  0.41574178,  0.4100616 ,  0.36725454],\n",
       "       [ 0.4100616 ,  0.48066802,  0.47561348,  0.40513347,  0.41310871],\n",
       "       [ 0.40513347,  0.40981781,  0.41920375,  0.42289528,  0.41863648],\n",
       "       ..., \n",
       "       [ 0.24507187,  0.24610324,  0.24335607,  0.25071869,  0.25548829],\n",
       "       [ 0.25071869,  0.24979757,  0.24854903,  0.25374743,  0.26027902],\n",
       "       [ 0.25374743,  0.2541498 ,  0.25272376,  0.25918891,  0.26370097]])"
      ]
     },
     "execution_count": 24,
     "metadata": {},
     "output_type": "execute_result"
    }
   ],
   "source": [
    "scaled"
   ]
  },
  {
   "cell_type": "code",
   "execution_count": 25,
   "metadata": {
    "collapsed": false
   },
   "outputs": [],
   "source": [
    "reframed = series_to_supervised(scaled, 1, 1)"
   ]
  },
  {
   "cell_type": "code",
   "execution_count": 26,
   "metadata": {
    "collapsed": false
   },
   "outputs": [
    {
     "data": {
      "text/html": [
       "<div>\n",
       "<table border=\"1\" class=\"dataframe\">\n",
       "  <thead>\n",
       "    <tr style=\"text-align: right;\">\n",
       "      <th></th>\n",
       "      <th>var1(t-1)</th>\n",
       "      <th>var2(t-1)</th>\n",
       "      <th>var3(t-1)</th>\n",
       "      <th>var4(t-1)</th>\n",
       "      <th>var5(t-1)</th>\n",
       "      <th>var1(t)</th>\n",
       "      <th>var2(t)</th>\n",
       "      <th>var3(t)</th>\n",
       "      <th>var4(t)</th>\n",
       "      <th>var5(t)</th>\n",
       "    </tr>\n",
       "  </thead>\n",
       "  <tbody>\n",
       "    <tr>\n",
       "      <th>1</th>\n",
       "      <td>0.425513</td>\n",
       "      <td>0.421154</td>\n",
       "      <td>0.415742</td>\n",
       "      <td>0.410062</td>\n",
       "      <td>0.367255</td>\n",
       "      <td>0.410062</td>\n",
       "      <td>0.480668</td>\n",
       "      <td>0.475613</td>\n",
       "      <td>0.405133</td>\n",
       "      <td>0.413109</td>\n",
       "    </tr>\n",
       "    <tr>\n",
       "      <th>2</th>\n",
       "      <td>0.410062</td>\n",
       "      <td>0.480668</td>\n",
       "      <td>0.475613</td>\n",
       "      <td>0.405133</td>\n",
       "      <td>0.413109</td>\n",
       "      <td>0.405133</td>\n",
       "      <td>0.409818</td>\n",
       "      <td>0.419204</td>\n",
       "      <td>0.422895</td>\n",
       "      <td>0.418636</td>\n",
       "    </tr>\n",
       "    <tr>\n",
       "      <th>3</th>\n",
       "      <td>0.405133</td>\n",
       "      <td>0.409818</td>\n",
       "      <td>0.419204</td>\n",
       "      <td>0.422895</td>\n",
       "      <td>0.418636</td>\n",
       "      <td>0.422895</td>\n",
       "      <td>0.418016</td>\n",
       "      <td>0.440077</td>\n",
       "      <td>0.441427</td>\n",
       "      <td>0.426375</td>\n",
       "    </tr>\n",
       "    <tr>\n",
       "      <th>4</th>\n",
       "      <td>0.422895</td>\n",
       "      <td>0.418016</td>\n",
       "      <td>0.440077</td>\n",
       "      <td>0.441427</td>\n",
       "      <td>0.426375</td>\n",
       "      <td>0.441427</td>\n",
       "      <td>0.438259</td>\n",
       "      <td>0.438856</td>\n",
       "      <td>0.438450</td>\n",
       "      <td>0.445328</td>\n",
       "    </tr>\n",
       "    <tr>\n",
       "      <th>5</th>\n",
       "      <td>0.441427</td>\n",
       "      <td>0.438259</td>\n",
       "      <td>0.438856</td>\n",
       "      <td>0.438450</td>\n",
       "      <td>0.445328</td>\n",
       "      <td>0.438450</td>\n",
       "      <td>0.465283</td>\n",
       "      <td>0.475410</td>\n",
       "      <td>0.416222</td>\n",
       "      <td>0.396894</td>\n",
       "    </tr>\n",
       "  </tbody>\n",
       "</table>\n",
       "</div>"
      ],
      "text/plain": [
       "   var1(t-1)  var2(t-1)  var3(t-1)  var4(t-1)  var5(t-1)   var1(t)   var2(t)  \\\n",
       "1   0.425513   0.421154   0.415742   0.410062   0.367255  0.410062  0.480668   \n",
       "2   0.410062   0.480668   0.475613   0.405133   0.413109  0.405133  0.409818   \n",
       "3   0.405133   0.409818   0.419204   0.422895   0.418636  0.422895  0.418016   \n",
       "4   0.422895   0.418016   0.440077   0.441427   0.426375  0.441427  0.438259   \n",
       "5   0.441427   0.438259   0.438856   0.438450   0.445328  0.438450  0.465283   \n",
       "\n",
       "    var3(t)   var4(t)   var5(t)  \n",
       "1  0.475613  0.405133  0.413109  \n",
       "2  0.419204  0.422895  0.418636  \n",
       "3  0.440077  0.441427  0.426375  \n",
       "4  0.438856  0.438450  0.445328  \n",
       "5  0.475410  0.416222  0.396894  "
      ]
     },
     "execution_count": 26,
     "metadata": {},
     "output_type": "execute_result"
    }
   ],
   "source": [
    "reframed.head()"
   ]
  },
  {
   "cell_type": "markdown",
   "metadata": {},
   "source": [
    "## Train Test Split"
   ]
  },
  {
   "cell_type": "code",
   "execution_count": 27,
   "metadata": {
    "collapsed": false
   },
   "outputs": [
    {
     "name": "stdout",
     "output_type": "stream",
     "text": [
      "(1596, 1, 9) (1596,) (399, 1, 9) (399,)\n"
     ]
    }
   ],
   "source": [
    "values = reframed.values\n",
    "n_train_hours = 1596\n",
    "train = values[:n_train_hours, :]\n",
    "test = values[n_train_hours:, :]\n",
    "# split into input and outputs\n",
    "train_X, train_y = train[:, :-1], train[:, -1]\n",
    "test_X, test_y = test[:, :-1], test[:, -1]\n",
    "# reshape input to be 3D [samples, timesteps, features]\n",
    "train_X = train_X.reshape((train_X.shape[0], 1, train_X.shape[1]))\n",
    "test_X = test_X.reshape((test_X.shape[0], 1, test_X.shape[1]))\n",
    "print(train_X.shape, train_y.shape, test_X.shape, test_y.shape)"
   ]
  },
  {
   "cell_type": "markdown",
   "metadata": {},
   "source": [
    "## Fit model --Keras"
   ]
  },
  {
   "cell_type": "code",
   "execution_count": null,
   "metadata": {
    "collapsed": false
   },
   "outputs": [
    {
     "name": "stderr",
     "output_type": "stream",
     "text": [
      "Using TensorFlow backend.\n"
     ]
    }
   ],
   "source": [
    "from sklearn.metrics import mean_squared_error\n",
    "from keras.models import Sequential\n",
    "from keras.layers import Dense\n",
    "from keras.layers import LSTM"
   ]
  },
  {
   "cell_type": "code",
   "execution_count": null,
   "metadata": {
    "collapsed": true
   },
   "outputs": [],
   "source": [
    "# design network\n",
    "model = Sequential()\n",
    "model.add(LSTM(50, input_shape=(train_X.shape[1], train_X.shape[2])))\n",
    "model.add(Dense(1))\n",
    "model.compile(loss='mae', optimizer='adam')\n",
    "# fit network\n",
    "history = model.fit(train_X, train_y, epochs=50, batch_size=72, validation_data=(test_X, test_y), verbose=2, shuffle=False)\n",
    "# plot history\n",
    "pyplot.plot(history.history['loss'], label='train')\n",
    "pyplot.plot(history.history['val_loss'], label='test')\n",
    "pyplot.legend()\n",
    "pyplot.show()"
   ]
  }
 ],
 "metadata": {
  "anaconda-cloud": {},
  "kernelspec": {
   "display_name": "Python [conda root]",
   "language": "python",
   "name": "conda-root-py"
  },
  "language_info": {
   "codemirror_mode": {
    "name": "ipython",
    "version": 3
   },
   "file_extension": ".py",
   "mimetype": "text/x-python",
   "name": "python",
   "nbconvert_exporter": "python",
   "pygments_lexer": "ipython3",
   "version": "3.5.2"
  }
 },
 "nbformat": 4,
 "nbformat_minor": 2
}
