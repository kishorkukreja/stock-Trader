{
 "cells": [
  {
   "cell_type": "code",
   "execution_count": null,
   "metadata": {
    "collapsed": true
   },
   "outputs": [],
   "source": [
    "import quandl"
   ]
  },
  {
   "cell_type": "markdown",
   "metadata": {},
   "source": [
    "# Fetch Nifty 50 stocks"
   ]
  },
  {
   "cell_type": "code",
   "execution_count": null,
   "metadata": {
    "collapsed": true
   },
   "outputs": [],
   "source": [
    "## USe beautifulsoup and urllib2"
   ]
  },
  {
   "cell_type": "code",
   "execution_count": null,
   "metadata": {
    "collapsed": false
   },
   "outputs": [],
   "source": [
    "import urllib.request"
   ]
  },
  {
   "cell_type": "code",
   "execution_count": null,
   "metadata": {
    "collapsed": true
   },
   "outputs": [],
   "source": [
    "from bs4 import BeautifulSoup"
   ]
  },
  {
   "cell_type": "code",
   "execution_count": null,
   "metadata": {
    "collapsed": true
   },
   "outputs": [],
   "source": [
    "quote_page = 'http://www.niftygps.com/nifty_50stocks.php'"
   ]
  },
  {
   "cell_type": "code",
   "execution_count": null,
   "metadata": {
    "collapsed": false
   },
   "outputs": [],
   "source": [
    "page = urllib.request.urlopen(quote_page)"
   ]
  },
  {
   "cell_type": "code",
   "execution_count": null,
   "metadata": {
    "collapsed": true
   },
   "outputs": [],
   "source": [
    "soup = BeautifulSoup(page, 'html.parser')"
   ]
  },
  {
   "cell_type": "code",
   "execution_count": null,
   "metadata": {
    "collapsed": true
   },
   "outputs": [],
   "source": [
    "name_box = soup.find('td', attrs={'class': 'txt1'})"
   ]
  },
  {
   "cell_type": "code",
   "execution_count": null,
   "metadata": {
    "collapsed": false
   },
   "outputs": [],
   "source": [
    "name = name_box.text.strip()"
   ]
  },
  {
   "cell_type": "markdown",
   "metadata": {},
   "source": [
    "## Fetch Daily closing Data of stocks"
   ]
  },
  {
   "cell_type": "code",
   "execution_count": 1,
   "metadata": {
    "collapsed": true
   },
   "outputs": [],
   "source": [
    "symbol='PNB'\n",
    "from alpha_vantage.timeseries import TimeSeries\n",
    "from pprint import pprint\n",
    "ts = TimeSeries(key='H35BN5I7Z42ZJQWH', output_format='pandas')\n",
    "data, meta_data = ts.get_intraday(symbol='PNB',interval='1min', outputsize='full')"
   ]
  },
  {
   "cell_type": "code",
   "execution_count": 2,
   "metadata": {
    "collapsed": false
   },
   "outputs": [
    {
     "name": "stdout",
     "output_type": "stream",
     "text": [
      "                     3. low  4. close  5. volume  1. open  2. high\n",
      "date                                                              \n",
      "2017-12-25 22:45:00  175.80     175.8     1296.0   175.80   175.80\n",
      "2017-12-25 22:46:00  174.55     174.7   123035.0   175.85   175.85\n"
     ]
    }
   ],
   "source": [
    "print(data.head(2))"
   ]
  },
  {
   "cell_type": "code",
   "execution_count": 3,
   "metadata": {
    "collapsed": false
   },
   "outputs": [
    {
     "name": "stdout",
     "output_type": "stream",
     "text": [
      "\\\\inmbfp1\\redirect1\\G560667\\My Documents\n",
      "C:\\Users\\G560667\\stock-trader\n"
     ]
    }
   ],
   "source": [
    "import os\n",
    "print(os.getcwd())\n",
    "os.chdir('C:\\\\Users\\\\G560667\\\\stock-trader\\\\')\n",
    "print(os.getcwd())"
   ]
  },
  {
   "cell_type": "code",
   "execution_count": 4,
   "metadata": {
    "collapsed": false
   },
   "outputs": [
    {
     "name": "stdout",
     "output_type": "stream",
     "text": [
      "20180108-222112\n"
     ]
    }
   ],
   "source": [
    "import time\n",
    "timestr = time.strftime(\"%Y%m%d-%H%M%S\")\n",
    "print (timestr)"
   ]
  },
  {
   "cell_type": "code",
   "execution_count": 5,
   "metadata": {
    "collapsed": true
   },
   "outputs": [],
   "source": [
    "data.to_csv(symbol+timestr+'.csv')"
   ]
  },
  {
   "cell_type": "code",
   "execution_count": null,
   "metadata": {
    "collapsed": true
   },
   "outputs": [],
   "source": [
    "import pandas as pd\n",
    "from pandas import read_csv\n",
    "from matplotlib import pyplot as plt\n",
    "nifty50 = read_csv('ind_niftynext50list.csv', header=0, index_col=0)"
   ]
  },
  {
   "cell_type": "code",
   "execution_count": 16,
   "metadata": {
    "collapsed": false
   },
   "outputs": [
    {
     "data": {
      "text/plain": [
       "['ABB',\n",
       " 'ACC',\n",
       " 'ASHOKLEY',\n",
       " 'DMART',\n",
       " 'BAJAJFINSV',\n",
       " 'BANKBARODA',\n",
       " 'BEL',\n",
       " 'BHEL',\n",
       " 'BRITANNIA',\n",
       " 'CADILAHC',\n",
       " 'COLPAL',\n",
       " 'CONCOR',\n",
       " 'CUMMINSIND',\n",
       " 'DLF',\n",
       " 'DABUR',\n",
       " 'EMAMILTD',\n",
       " 'GSKCONS',\n",
       " 'GLAXO',\n",
       " 'GLENMARK',\n",
       " 'GODREJCP',\n",
       " 'HAVELLS',\n",
       " 'HINDZINC',\n",
       " 'ICICIPRULI',\n",
       " 'IDEA',\n",
       " 'INDIGO',\n",
       " 'JSWSTEEL',\n",
       " 'LICHSGFIN',\n",
       " 'MRF',\n",
       " 'MARICO',\n",
       " 'MOTHERSUMI',\n",
       " 'NHPC',\n",
       " 'NMDC',\n",
       " 'OIL',\n",
       " 'OFSS',\n",
       " 'PETRONET',\n",
       " 'PIDILITIND',\n",
       " 'PEL',\n",
       " 'PFC',\n",
       " 'PGHH',\n",
       " 'PNB',\n",
       " 'RECLTD',\n",
       " 'SHREECEM',\n",
       " 'SRTRANSFIN',\n",
       " 'SIEMENS',\n",
       " 'SAIL',\n",
       " 'SUNTV',\n",
       " 'TATAPOWER',\n",
       " 'TITAN',\n",
       " 'TORNTPHARM',\n",
       " 'MCDOWELL-N']"
      ]
     },
     "execution_count": 16,
     "metadata": {},
     "output_type": "execute_result"
    }
   ],
   "source": [
    "stocks=[]\n",
    "for i in range(len(nifty50['Symbol'])):\n",
    "    stocks.append(nifty50['Symbol'][i])\n"
   ]
  },
  {
   "cell_type": "code",
   "execution_count": 20,
   "metadata": {
    "collapsed": false
   },
   "outputs": [
    {
     "data": {
      "text/plain": [
       "['NMDC',\n",
       " 'OIL',\n",
       " 'OFSS',\n",
       " 'PETRONET',\n",
       " 'PIDILITIND',\n",
       " 'PEL',\n",
       " 'PFC',\n",
       " 'PGHH',\n",
       " 'PNB',\n",
       " 'RECLTD',\n",
       " 'SHREECEM',\n",
       " 'SRTRANSFIN',\n",
       " 'SIEMENS',\n",
       " 'SAIL',\n",
       " 'SUNTV',\n",
       " 'TATAPOWER',\n",
       " 'TITAN',\n",
       " 'TORNTPHARM',\n",
       " 'MCDOWELL-N']"
      ]
     },
     "execution_count": 20,
     "metadata": {},
     "output_type": "execute_result"
    }
   ],
   "source": [
    "stocks= [\n",
    "    #'MRF',\n",
    "#'MARICO',\n",
    "#'MOTHERSUMI',\n",
    "#'NHPC',\n",
    "'NMDC',\n",
    "'OIL',\n",
    "'OFSS',\n",
    "'PETRONET',\n",
    "'PIDILITIND',\n",
    "'PEL',\n",
    "'PFC',\n",
    "'PGHH',\n",
    "'PNB',\n",
    "'RECLTD',\n",
    "'SHREECEM',\n",
    "'SRTRANSFIN',\n",
    "'SIEMENS',\n",
    "'SAIL',\n",
    "'SUNTV',\n",
    "'TATAPOWER',\n",
    "'TITAN',\n",
    "'TORNTPHARM',\n",
    "'MCDOWELL-N',\n",
    "]\n",
    "stocks"
   ]
  },
  {
   "cell_type": "code",
   "execution_count": 22,
   "metadata": {
    "collapsed": true
   },
   "outputs": [],
   "source": [
    "stocks=['PEL']"
   ]
  },
  {
   "cell_type": "code",
   "execution_count": 24,
   "metadata": {
    "collapsed": false
   },
   "outputs": [
    {
     "name": "stdout",
     "output_type": "stream",
     "text": [
      "Non-numeric data found in the file.\n"
     ]
    }
   ],
   "source": [
    "try:\n",
    "    for i in range(len(stocks)):\n",
    "        data, meta_data = ts.get_intraday(symbol=stocks[i],interval='1min', outputsize='full')\n",
    "        timestr = time.strftime(\"%Y%m%d-%H%M%S\")\n",
    "        data.to_csv(stocks[i]+'-'+timestr+'.csv')\n",
    "except ValueError:\n",
    "    print('Non-numeric data found in the file.')"
   ]
  },
  {
   "cell_type": "code",
   "execution_count": null,
   "metadata": {
    "collapsed": true
   },
   "outputs": [],
   "source": []
  }
 ],
 "metadata": {
  "anaconda-cloud": {},
  "kernelspec": {
   "display_name": "Python [conda root]",
   "language": "python",
   "name": "conda-root-py"
  },
  "language_info": {
   "codemirror_mode": {
    "name": "ipython",
    "version": 3
   },
   "file_extension": ".py",
   "mimetype": "text/x-python",
   "name": "python",
   "nbconvert_exporter": "python",
   "pygments_lexer": "ipython3",
   "version": "3.5.2"
  }
 },
 "nbformat": 4,
 "nbformat_minor": 2
}
