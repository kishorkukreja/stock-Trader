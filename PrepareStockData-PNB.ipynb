{
 "cells": [
  {
   "cell_type": "code",
   "execution_count": 1,
   "metadata": {
    "collapsed": true
   },
   "outputs": [],
   "source": [
    "import numpy as np\n",
    "import pandas as pd\n",
    "import matplotlib.pyplot as plt\n",
    "pd.options.mode.chained_assignment = None"
   ]
  },
  {
   "cell_type": "markdown",
   "metadata": {},
   "source": [
    "# Get data"
   ]
  },
  {
   "cell_type": "code",
   "execution_count": 9,
   "metadata": {
    "collapsed": false
   },
   "outputs": [
    {
     "data": {
      "text/plain": [
       "(3915, 14)"
      ]
     },
     "execution_count": 9,
     "metadata": {},
     "output_type": "execute_result"
    }
   ],
   "source": [
    "from nsepy import get_history\n",
    "from datetime import date\n",
    "data = get_history(symbol=\"PNB\", start=date(1995,1,1), end=date(2018,1,9))\n",
    "data.shape"
   ]
  },
  {
   "cell_type": "code",
   "execution_count": 10,
   "metadata": {
    "collapsed": false
   },
   "outputs": [
    {
     "data": {
      "text/html": [
       "<div>\n",
       "<table border=\"1\" class=\"dataframe\">\n",
       "  <thead>\n",
       "    <tr style=\"text-align: right;\">\n",
       "      <th></th>\n",
       "      <th>Symbol</th>\n",
       "      <th>Series</th>\n",
       "      <th>Prev Close</th>\n",
       "      <th>Open</th>\n",
       "      <th>High</th>\n",
       "      <th>Low</th>\n",
       "      <th>Last</th>\n",
       "      <th>Close</th>\n",
       "      <th>VWAP</th>\n",
       "      <th>Volume</th>\n",
       "      <th>Turnover</th>\n",
       "      <th>Trades</th>\n",
       "      <th>Deliverable Volume</th>\n",
       "      <th>%Deliverble</th>\n",
       "    </tr>\n",
       "    <tr>\n",
       "      <th>Date</th>\n",
       "      <th></th>\n",
       "      <th></th>\n",
       "      <th></th>\n",
       "      <th></th>\n",
       "      <th></th>\n",
       "      <th></th>\n",
       "      <th></th>\n",
       "      <th></th>\n",
       "      <th></th>\n",
       "      <th></th>\n",
       "      <th></th>\n",
       "      <th></th>\n",
       "      <th></th>\n",
       "      <th></th>\n",
       "    </tr>\n",
       "  </thead>\n",
       "  <tbody>\n",
       "    <tr>\n",
       "      <th>2002-04-26</th>\n",
       "      <td>PNB</td>\n",
       "      <td>EQ</td>\n",
       "      <td>31.0</td>\n",
       "      <td>40.00</td>\n",
       "      <td>40.00</td>\n",
       "      <td>35.00</td>\n",
       "      <td>37.30</td>\n",
       "      <td>37.40</td>\n",
       "      <td>37.03</td>\n",
       "      <td>4000760.0</td>\n",
       "      <td>1.481550e+13</td>\n",
       "      <td>NaN</td>\n",
       "      <td>2048637.0</td>\n",
       "      <td>0.5121</td>\n",
       "    </tr>\n",
       "    <tr>\n",
       "      <th>2002-04-29</th>\n",
       "      <td>PNB</td>\n",
       "      <td>EQ</td>\n",
       "      <td>37.4</td>\n",
       "      <td>38.50</td>\n",
       "      <td>39.10</td>\n",
       "      <td>37.65</td>\n",
       "      <td>39.10</td>\n",
       "      <td>38.60</td>\n",
       "      <td>38.26</td>\n",
       "      <td>2602886.0</td>\n",
       "      <td>9.957692e+12</td>\n",
       "      <td>NaN</td>\n",
       "      <td>1632801.0</td>\n",
       "      <td>0.6273</td>\n",
       "    </tr>\n",
       "    <tr>\n",
       "      <th>2002-04-30</th>\n",
       "      <td>PNB</td>\n",
       "      <td>EQ</td>\n",
       "      <td>38.6</td>\n",
       "      <td>39.00</td>\n",
       "      <td>40.35</td>\n",
       "      <td>38.50</td>\n",
       "      <td>40.15</td>\n",
       "      <td>40.10</td>\n",
       "      <td>39.79</td>\n",
       "      <td>1377334.0</td>\n",
       "      <td>5.480687e+12</td>\n",
       "      <td>NaN</td>\n",
       "      <td>NaN</td>\n",
       "      <td>NaN</td>\n",
       "    </tr>\n",
       "    <tr>\n",
       "      <th>2002-05-02</th>\n",
       "      <td>PNB</td>\n",
       "      <td>EQ</td>\n",
       "      <td>40.1</td>\n",
       "      <td>40.25</td>\n",
       "      <td>46.10</td>\n",
       "      <td>40.25</td>\n",
       "      <td>45.10</td>\n",
       "      <td>44.80</td>\n",
       "      <td>44.15</td>\n",
       "      <td>3348126.0</td>\n",
       "      <td>1.478202e+13</td>\n",
       "      <td>NaN</td>\n",
       "      <td>1307465.0</td>\n",
       "      <td>0.3905</td>\n",
       "    </tr>\n",
       "    <tr>\n",
       "      <th>2002-05-03</th>\n",
       "      <td>PNB</td>\n",
       "      <td>EQ</td>\n",
       "      <td>44.8</td>\n",
       "      <td>45.80</td>\n",
       "      <td>47.45</td>\n",
       "      <td>44.55</td>\n",
       "      <td>46.95</td>\n",
       "      <td>46.45</td>\n",
       "      <td>46.10</td>\n",
       "      <td>2689672.0</td>\n",
       "      <td>1.239910e+13</td>\n",
       "      <td>NaN</td>\n",
       "      <td>1032559.0</td>\n",
       "      <td>0.3839</td>\n",
       "    </tr>\n",
       "  </tbody>\n",
       "</table>\n",
       "</div>"
      ],
      "text/plain": [
       "           Symbol Series  Prev Close   Open   High    Low   Last  Close  \\\n",
       "Date                                                                      \n",
       "2002-04-26    PNB     EQ        31.0  40.00  40.00  35.00  37.30  37.40   \n",
       "2002-04-29    PNB     EQ        37.4  38.50  39.10  37.65  39.10  38.60   \n",
       "2002-04-30    PNB     EQ        38.6  39.00  40.35  38.50  40.15  40.10   \n",
       "2002-05-02    PNB     EQ        40.1  40.25  46.10  40.25  45.10  44.80   \n",
       "2002-05-03    PNB     EQ        44.8  45.80  47.45  44.55  46.95  46.45   \n",
       "\n",
       "             VWAP     Volume      Turnover  Trades  Deliverable Volume  \\\n",
       "Date                                                                     \n",
       "2002-04-26  37.03  4000760.0  1.481550e+13     NaN           2048637.0   \n",
       "2002-04-29  38.26  2602886.0  9.957692e+12     NaN           1632801.0   \n",
       "2002-04-30  39.79  1377334.0  5.480687e+12     NaN                 NaN   \n",
       "2002-05-02  44.15  3348126.0  1.478202e+13     NaN           1307465.0   \n",
       "2002-05-03  46.10  2689672.0  1.239910e+13     NaN           1032559.0   \n",
       "\n",
       "            %Deliverble  \n",
       "Date                     \n",
       "2002-04-26       0.5121  \n",
       "2002-04-29       0.6273  \n",
       "2002-04-30          NaN  \n",
       "2002-05-02       0.3905  \n",
       "2002-05-03       0.3839  "
      ]
     },
     "execution_count": 10,
     "metadata": {},
     "output_type": "execute_result"
    }
   ],
   "source": [
    "data.head()"
   ]
  },
  {
   "cell_type": "code",
   "execution_count": 11,
   "metadata": {
    "collapsed": true
   },
   "outputs": [],
   "source": [
    "columns = ['Volume','Open','High','Close','Low','VWAP','Turnover']"
   ]
  },
  {
   "cell_type": "code",
   "execution_count": 12,
   "metadata": {
    "collapsed": true
   },
   "outputs": [],
   "source": [
    "stock_data=data[columns]"
   ]
  },
  {
   "cell_type": "code",
   "execution_count": 114,
   "metadata": {
    "collapsed": false
   },
   "outputs": [
    {
     "data": {
      "text/html": [
       "<div>\n",
       "<table border=\"1\" class=\"dataframe\">\n",
       "  <thead>\n",
       "    <tr style=\"text-align: right;\">\n",
       "      <th></th>\n",
       "      <th>Volume</th>\n",
       "      <th>Open</th>\n",
       "      <th>High</th>\n",
       "      <th>Close</th>\n",
       "      <th>Low</th>\n",
       "      <th>VWAP</th>\n",
       "      <th>Turnover</th>\n",
       "    </tr>\n",
       "    <tr>\n",
       "      <th>Date</th>\n",
       "      <th></th>\n",
       "      <th></th>\n",
       "      <th></th>\n",
       "      <th></th>\n",
       "      <th></th>\n",
       "      <th></th>\n",
       "      <th></th>\n",
       "    </tr>\n",
       "  </thead>\n",
       "  <tbody>\n",
       "    <tr>\n",
       "      <th>2018-01-03</th>\n",
       "      <td>8534233.0</td>\n",
       "      <td>168.00</td>\n",
       "      <td>169.30</td>\n",
       "      <td>166.60</td>\n",
       "      <td>166.20</td>\n",
       "      <td>167.66</td>\n",
       "      <td>1.430885e+14</td>\n",
       "    </tr>\n",
       "    <tr>\n",
       "      <th>2018-01-04</th>\n",
       "      <td>31613344.0</td>\n",
       "      <td>167.35</td>\n",
       "      <td>179.70</td>\n",
       "      <td>176.45</td>\n",
       "      <td>165.40</td>\n",
       "      <td>172.88</td>\n",
       "      <td>5.465303e+14</td>\n",
       "    </tr>\n",
       "    <tr>\n",
       "      <th>2018-01-05</th>\n",
       "      <td>15500426.0</td>\n",
       "      <td>180.40</td>\n",
       "      <td>180.50</td>\n",
       "      <td>176.00</td>\n",
       "      <td>175.40</td>\n",
       "      <td>177.47</td>\n",
       "      <td>2.750899e+14</td>\n",
       "    </tr>\n",
       "    <tr>\n",
       "      <th>2018-01-08</th>\n",
       "      <td>7302294.0</td>\n",
       "      <td>177.05</td>\n",
       "      <td>178.15</td>\n",
       "      <td>175.70</td>\n",
       "      <td>175.10</td>\n",
       "      <td>176.41</td>\n",
       "      <td>1.288170e+14</td>\n",
       "    </tr>\n",
       "    <tr>\n",
       "      <th>2018-01-09</th>\n",
       "      <td>11152776.0</td>\n",
       "      <td>175.30</td>\n",
       "      <td>177.90</td>\n",
       "      <td>174.65</td>\n",
       "      <td>174.05</td>\n",
       "      <td>176.09</td>\n",
       "      <td>1.963904e+14</td>\n",
       "    </tr>\n",
       "  </tbody>\n",
       "</table>\n",
       "</div>"
      ],
      "text/plain": [
       "                Volume    Open    High   Close     Low    VWAP      Turnover\n",
       "Date                                                                        \n",
       "2018-01-03   8534233.0  168.00  169.30  166.60  166.20  167.66  1.430885e+14\n",
       "2018-01-04  31613344.0  167.35  179.70  176.45  165.40  172.88  5.465303e+14\n",
       "2018-01-05  15500426.0  180.40  180.50  176.00  175.40  177.47  2.750899e+14\n",
       "2018-01-08   7302294.0  177.05  178.15  175.70  175.10  176.41  1.288170e+14\n",
       "2018-01-09  11152776.0  175.30  177.90  174.65  174.05  176.09  1.963904e+14"
      ]
     },
     "execution_count": 114,
     "metadata": {},
     "output_type": "execute_result"
    }
   ],
   "source": [
    "stock_data.tail()"
   ]
  },
  {
   "cell_type": "code",
   "execution_count": 115,
   "metadata": {
    "collapsed": false
   },
   "outputs": [
    {
     "data": {
      "text/plain": [
       "Volume      0\n",
       "Open        0\n",
       "High        0\n",
       "Close       0\n",
       "Low         0\n",
       "VWAP        0\n",
       "Turnover    0\n",
       "dtype: int64"
      ]
     },
     "execution_count": 115,
     "metadata": {},
     "output_type": "execute_result"
    }
   ],
   "source": [
    "stock_data.isnull().sum()"
   ]
  },
  {
   "cell_type": "code",
   "execution_count": 112,
   "metadata": {
    "collapsed": false
   },
   "outputs": [
    {
     "name": "stdout",
     "output_type": "stream",
     "text": [
      "C:\\Users\\G560667\\stock-trader\n",
      "C:\\Users\\G560667\\stock-trader\n"
     ]
    }
   ],
   "source": [
    "import os\n",
    "print(os.getcwd())\n",
    "os.chdir('C:\\\\Users\\\\G560667\\\\stock-trader\\\\')\n",
    "print(os.getcwd())"
   ]
  },
  {
   "cell_type": "code",
   "execution_count": 16,
   "metadata": {
    "collapsed": true
   },
   "outputs": [],
   "source": [
    "stock_data.to_csv('PNB_Latest.csv')"
   ]
  },
  {
   "cell_type": "code",
   "execution_count": 119,
   "metadata": {
    "collapsed": false
   },
   "outputs": [],
   "source": [
    "df=stock_data##Reverse Data Frame"
   ]
  },
  {
   "cell_type": "code",
   "execution_count": 120,
   "metadata": {
    "collapsed": false
   },
   "outputs": [
    {
     "data": {
      "text/html": [
       "<div>\n",
       "<table border=\"1\" class=\"dataframe\">\n",
       "  <thead>\n",
       "    <tr style=\"text-align: right;\">\n",
       "      <th></th>\n",
       "      <th>Volume</th>\n",
       "      <th>Open</th>\n",
       "      <th>High</th>\n",
       "      <th>Close</th>\n",
       "      <th>Low</th>\n",
       "      <th>VWAP</th>\n",
       "      <th>Turnover</th>\n",
       "    </tr>\n",
       "    <tr>\n",
       "      <th>Date</th>\n",
       "      <th></th>\n",
       "      <th></th>\n",
       "      <th></th>\n",
       "      <th></th>\n",
       "      <th></th>\n",
       "      <th></th>\n",
       "      <th></th>\n",
       "    </tr>\n",
       "  </thead>\n",
       "  <tbody>\n",
       "    <tr>\n",
       "      <th>2002-04-26</th>\n",
       "      <td>4000760.0</td>\n",
       "      <td>40.00</td>\n",
       "      <td>40.00</td>\n",
       "      <td>37.40</td>\n",
       "      <td>35.00</td>\n",
       "      <td>37.03</td>\n",
       "      <td>1.481550e+13</td>\n",
       "    </tr>\n",
       "    <tr>\n",
       "      <th>2002-04-29</th>\n",
       "      <td>2602886.0</td>\n",
       "      <td>38.50</td>\n",
       "      <td>39.10</td>\n",
       "      <td>38.60</td>\n",
       "      <td>37.65</td>\n",
       "      <td>38.26</td>\n",
       "      <td>9.957692e+12</td>\n",
       "    </tr>\n",
       "    <tr>\n",
       "      <th>2002-04-30</th>\n",
       "      <td>1377334.0</td>\n",
       "      <td>39.00</td>\n",
       "      <td>40.35</td>\n",
       "      <td>40.10</td>\n",
       "      <td>38.50</td>\n",
       "      <td>39.79</td>\n",
       "      <td>5.480687e+12</td>\n",
       "    </tr>\n",
       "    <tr>\n",
       "      <th>2002-05-02</th>\n",
       "      <td>3348126.0</td>\n",
       "      <td>40.25</td>\n",
       "      <td>46.10</td>\n",
       "      <td>44.80</td>\n",
       "      <td>40.25</td>\n",
       "      <td>44.15</td>\n",
       "      <td>1.478202e+13</td>\n",
       "    </tr>\n",
       "    <tr>\n",
       "      <th>2002-05-03</th>\n",
       "      <td>2689672.0</td>\n",
       "      <td>45.80</td>\n",
       "      <td>47.45</td>\n",
       "      <td>46.45</td>\n",
       "      <td>44.55</td>\n",
       "      <td>46.10</td>\n",
       "      <td>1.239910e+13</td>\n",
       "    </tr>\n",
       "  </tbody>\n",
       "</table>\n",
       "</div>"
      ],
      "text/plain": [
       "               Volume   Open   High  Close    Low   VWAP      Turnover\n",
       "Date                                                                  \n",
       "2002-04-26  4000760.0  40.00  40.00  37.40  35.00  37.03  1.481550e+13\n",
       "2002-04-29  2602886.0  38.50  39.10  38.60  37.65  38.26  9.957692e+12\n",
       "2002-04-30  1377334.0  39.00  40.35  40.10  38.50  39.79  5.480687e+12\n",
       "2002-05-02  3348126.0  40.25  46.10  44.80  40.25  44.15  1.478202e+13\n",
       "2002-05-03  2689672.0  45.80  47.45  46.45  44.55  46.10  1.239910e+13"
      ]
     },
     "execution_count": 120,
     "metadata": {},
     "output_type": "execute_result"
    }
   ],
   "source": [
    "df.head()"
   ]
  },
  {
   "cell_type": "code",
   "execution_count": null,
   "metadata": {
    "collapsed": false
   },
   "outputs": [],
   "source": [
    "##Basic Data Cleaning\n",
    "df[\"Close\"] = (df[\"Close\"].str.split()).apply(lambda x: float(x[0].replace(',', '.')))\n",
    "df[\"Open\"] = (df[\"Open\"].str.split()).apply(lambda x: float(x[0].replace(',', '.')))\n",
    "df[\"High\"] = (df[\"High\"].str.split()).apply(lambda x: float(x[0].replace(',', '.')))\n",
    "df[\"Low\"] = (df[\"Low\"].str.split()).apply(lambda x: float(x[0].replace(',', '.')))\n",
    "df[\"Volume\"] = (df[\"Volume\"].str.split()).apply(lambda x: float(x[0].replace(',', '.')))\n",
    "df[\"VWAP\"] = (df[\"VWAP\"].str.split()).apply(lambda x: float(x[0].replace(',', '.')))\n",
    "df[\"Turnover\"] = (df[\"Turnover\"].str.split()).apply(lambda x: float(x[0].replace(',', '.')))"
   ]
  },
  {
   "cell_type": "code",
   "execution_count": 121,
   "metadata": {
    "collapsed": true
   },
   "outputs": [],
   "source": [
    "price=df['Close']"
   ]
  },
  {
   "cell_type": "code",
   "execution_count": 122,
   "metadata": {
    "collapsed": false
   },
   "outputs": [
    {
     "data": {
      "text/plain": [
       "pandas.core.series.Series"
      ]
     },
     "execution_count": 122,
     "metadata": {},
     "output_type": "execute_result"
    }
   ],
   "source": [
    "type(price)"
   ]
  },
  {
   "cell_type": "code",
   "execution_count": 123,
   "metadata": {
    "collapsed": false
   },
   "outputs": [
    {
     "data": {
      "image/png": "[encoded data removed]",
      "text/plain": [
       "<matplotlib.figure.Figure at 0x197d2c3ee48>"
      ]
     },
     "metadata": {},
     "output_type": "display_data"
    }
   ],
   "source": [
    "prices = price.iloc[len(price.index)-60:len(price.index)].as_matrix().ravel()\n",
    "plt.figure(figsize=(25,7))\n",
    "plt.plot(prices,label='Test',color='black')\n",
    "plt.title('Price')\n",
    "plt.legend(loc='upper left')\n",
    "plt.show()"
   ]
  },
  {
   "cell_type": "markdown",
   "metadata": {},
   "source": [
    "## Apply Indicators"
   ]
  },
  {
   "cell_type": "code",
   "execution_count": 81,
   "metadata": {
    "collapsed": true
   },
   "outputs": [],
   "source": [
    "def MACD(df,period1,period2,periodSignal):\n",
    "    EMA1 = pd.DataFrame.ewm(df,span=period1).mean()\n",
    "    EMA2 = pd.DataFrame.ewm(df,span=period2).mean()\n",
    "    MACD = EMA1-EMA2\n",
    "    \n",
    "    Signal = pd.DataFrame.ewm(MACD,periodSignal).mean()\n",
    "    \n",
    "    Histogram = MACD-Signal\n",
    "    \n",
    "    return Histogram\n",
    "\n",
    "def stochastics_oscillator(df,period):\n",
    "    l, h = pd.DataFrame.rolling(df, period).min(), pd.DataFrame.rolling(df, period).max()\n",
    "    k = 100 * (df - l) / (h - l)\n",
    "    return k\n",
    "\n",
    "def ATR(df,period):\n",
    "    '''\n",
    "    Method A: Current High less the current Low\n",
    "    '''\n",
    "    df['H-L'] = abs(df['High']-df['Low'])\n",
    "    df['H-PC'] = abs(df['High']-df['Close'].shift(1))\n",
    "    df['L-PC'] = abs(df['Low']-df['Close'].shift(1))\n",
    "    TR = df[['H-L','H-PC','L-PC']].max(axis=1)\n",
    "    return TR.to_frame()"
   ]
  },
  {
   "cell_type": "markdown",
   "metadata": {},
   "source": [
    "## MACD"
   ]
  },
  {
   "cell_type": "code",
   "execution_count": 124,
   "metadata": {
    "collapsed": false
   },
   "outputs": [
    {
     "data": {
      "image/png": "[encoded data removed]",
      "text/plain": [
       "<matplotlib.figure.Figure at 0x197d2c15390>"
      ]
     },
     "metadata": {},
     "output_type": "display_data"
    }
   ],
   "source": [
    "macd = MACD(price.iloc[len(price.index)-60:len(price.index)],12,26,9)\n",
    "plt.figure(figsize=(25,7))\n",
    "plt.plot(macd,label='macd',color='red')\n",
    "plt.title('MACD')\n",
    "plt.legend(loc='upper left')\n",
    "plt.show()"
   ]
  },
  {
   "cell_type": "markdown",
   "metadata": {},
   "source": [
    "## Stochastics Oscillator"
   ]
  },
  {
   "cell_type": "code",
   "execution_count": 125,
   "metadata": {
    "collapsed": false
   },
   "outputs": [
    {
     "data": {
      "image/png": "[encoded data removed]",
      "text/plain": [
       "<matplotlib.figure.Figure at 0x197d8003438>"
      ]
     },
     "metadata": {},
     "output_type": "display_data"
    }
   ],
   "source": [
    "stochastics = stochastics_oscillator(price.iloc[len(price.index)-60:len(price.index)],14)\n",
    "plt.figure(figsize=(14,7))\n",
    "#First 100 points because it's too dense\n",
    "plt.plot(stochastics[0:100],label='Stochastics Oscillator',color='blue')\n",
    "plt.title('Stochastics Oscillator')\n",
    "plt.legend(loc='upper left')\n",
    "plt.show()"
   ]
  },
  {
   "cell_type": "markdown",
   "metadata": {},
   "source": [
    "## Average True Range"
   ]
  },
  {
   "cell_type": "code",
   "execution_count": 126,
   "metadata": {
    "collapsed": false
   },
   "outputs": [
    {
     "data": {
      "image/png": "[encoded data removed]",
      "text/plain": [
       "<matplotlib.figure.Figure at 0x197d180c0b8>"
      ]
     },
     "metadata": {},
     "output_type": "display_data"
    }
   ],
   "source": [
    "atr = ATR(df.iloc[len(df.index)-60:len(df.index)],14)\n",
    "plt.figure(figsize=(21,7))\n",
    "#First 100 points because it's too dense\n",
    "plt.plot(atr[0:100],label='ATR',color='green')\n",
    "plt.title('Average True Range')\n",
    "plt.legend(loc='upper left')\n",
    "plt.show()"
   ]
  },
  {
   "cell_type": "markdown",
   "metadata": {},
   "source": [
    "## Create complete DataFrame & Save Data"
   ]
  },
  {
   "cell_type": "code",
   "execution_count": 127,
   "metadata": {
    "collapsed": true
   },
   "outputs": [],
   "source": [
    "dfPriceShift = price.shift(-1)"
   ]
  },
  {
   "cell_type": "code",
   "execution_count": 128,
   "metadata": {
    "collapsed": false
   },
   "outputs": [
    {
     "data": {
      "text/plain": [
       "Date\n",
       "2002-04-26     38.60\n",
       "2002-04-29     40.10\n",
       "2002-04-30     44.80\n",
       "2002-05-02     46.45\n",
       "2002-05-03     46.70\n",
       "2002-05-06     45.30\n",
       "2002-05-07     43.40\n",
       "2002-05-08     43.70\n",
       "2002-05-09     43.35\n",
       "2002-05-10     44.65\n",
       "2002-05-13     43.50\n",
       "2002-05-14     42.60\n",
       "2002-05-15     41.25\n",
       "2002-05-16     40.15\n",
       "2002-05-17     38.70\n",
       "2002-05-20     37.25\n",
       "2002-05-21     37.15\n",
       "2002-05-22     37.60\n",
       "2002-05-23     38.85\n",
       "2002-05-24     39.10\n",
       "2002-05-27     38.10\n",
       "2002-05-28     39.60\n",
       "2002-05-29     39.00\n",
       "2002-05-30     38.95\n",
       "2002-05-31     38.10\n",
       "2002-06-03     39.40\n",
       "2002-06-04     42.75\n",
       "2002-06-05     42.15\n",
       "2002-06-06     42.90\n",
       "2002-06-07     45.00\n",
       "               ...  \n",
       "2017-11-28    181.60\n",
       "2017-11-29    176.10\n",
       "2017-11-30    171.50\n",
       "2017-12-01    173.20\n",
       "2017-12-04    175.95\n",
       "2017-12-05    172.10\n",
       "2017-12-06    173.90\n",
       "2017-12-07    172.70\n",
       "2017-12-08    172.95\n",
       "2017-12-11    173.70\n",
       "2017-12-12    167.80\n",
       "2017-12-13    169.60\n",
       "2017-12-14    171.60\n",
       "2017-12-15    178.75\n",
       "2017-12-18    178.75\n",
       "2017-12-19    170.50\n",
       "2017-12-20    173.50\n",
       "2017-12-21    175.95\n",
       "2017-12-22    174.30\n",
       "2017-12-26    174.10\n",
       "2017-12-27    170.80\n",
       "2017-12-28    171.40\n",
       "2017-12-29    169.75\n",
       "2018-01-01    166.40\n",
       "2018-01-02    166.60\n",
       "2018-01-03    176.45\n",
       "2018-01-04    176.00\n",
       "2018-01-05    175.70\n",
       "2018-01-08    174.65\n",
       "2018-01-09       NaN\n",
       "dtype: float64"
      ]
     },
     "execution_count": 128,
     "metadata": {},
     "output_type": "execute_result"
    }
   ],
   "source": [
    "dfPriceShift.rename(columns={'Close':'CloseTarget'}, inplace=True)"
   ]
  },
  {
   "cell_type": "code",
   "execution_count": 130,
   "metadata": {
    "collapsed": false
   },
   "outputs": [
    {
     "data": {
      "text/plain": [
       "Date\n",
       "2002-04-26    38.6\n",
       "2002-04-29    40.1\n",
       "dtype: float64"
      ]
     },
     "execution_count": 130,
     "metadata": {},
     "output_type": "execute_result"
    }
   ],
   "source": [
    "dfPriceShift.head(2)"
   ]
  },
  {
   "cell_type": "code",
   "execution_count": 131,
   "metadata": {
    "collapsed": false
   },
   "outputs": [
    {
     "data": {
      "text/plain": [
       "Date\n",
       "2002-04-26    0.000000\n",
       "2002-04-29    0.012753\n",
       "2002-04-30    0.042056\n",
       "2002-05-02    0.166156\n",
       "2002-05-03    0.249807\n",
       "2002-05-06    0.276151\n",
       "2002-05-07    0.216950\n",
       "2002-05-08    0.093036\n",
       "2002-05-09    0.024549\n",
       "2002-05-10   -0.037200\n",
       "2002-05-13   -0.018427\n",
       "2002-05-14   -0.063997\n",
       "2002-05-15   -0.138279\n",
       "2002-05-16   -0.252580\n",
       "2002-05-17   -0.378053\n",
       "2002-05-20   -0.526664\n",
       "2002-05-21   -0.687289\n",
       "2002-05-22   -0.776824\n",
       "2002-05-23   -0.783670\n",
       "2002-05-24   -0.686719\n",
       "2002-05-27   -0.578899\n",
       "2002-05-28   -0.540879\n",
       "2002-05-29   -0.401243\n",
       "2002-05-30   -0.323050\n",
       "2002-05-31   -0.255927\n",
       "2002-06-03   -0.248595\n",
       "2002-06-04   -0.147145\n",
       "2002-06-05    0.148631\n",
       "2002-06-06    0.317269\n",
       "2002-06-07    0.478831\n",
       "                ...   \n",
       "2017-11-28   -3.577822\n",
       "2017-11-29   -3.900580\n",
       "2017-11-30   -4.480823\n",
       "2017-12-01   -5.154391\n",
       "2017-12-04   -5.414089\n",
       "2017-12-05   -5.292115\n",
       "2017-12-06   -5.372721\n",
       "2017-12-07   -5.181835\n",
       "2017-12-08   -5.015084\n",
       "2017-12-11   -4.760853\n",
       "2017-12-12   -4.411728\n",
       "2017-12-13   -4.479238\n",
       "2017-12-14   -4.280450\n",
       "2017-12-15   -3.880995\n",
       "2017-12-18   -2.978622\n",
       "2017-12-19   -2.260362\n",
       "2017-12-20   -2.284574\n",
       "2017-12-21   -2.021256\n",
       "2017-12-22   -1.600779\n",
       "2017-12-26   -1.375436\n",
       "2017-12-27   -1.189208\n",
       "2017-12-28   -1.257713\n",
       "2017-12-29   -1.222217\n",
       "2018-01-01   -1.274666\n",
       "2018-01-02   -1.508052\n",
       "2018-01-03   -1.604985\n",
       "2018-01-04   -0.907958\n",
       "2018-01-05   -0.411781\n",
       "2018-01-08   -0.061824\n",
       "2018-01-09    0.120088\n",
       "dtype: float64"
      ]
     },
     "execution_count": 131,
     "metadata": {},
     "output_type": "execute_result"
    }
   ],
   "source": [
    "macd = MACD(price,12,26,9)\n",
    "macd.rename(columns={'Close':'MACD'}, inplace=True)"
   ]
  },
  {
   "cell_type": "code",
   "execution_count": 132,
   "metadata": {
    "collapsed": false
   },
   "outputs": [
    {
     "data": {
      "text/plain": [
       "Date\n",
       "2002-04-26           NaN\n",
       "2002-04-29           NaN\n",
       "2002-04-30           NaN\n",
       "2002-05-02           NaN\n",
       "2002-05-03           NaN\n",
       "2002-05-06           NaN\n",
       "2002-05-07           NaN\n",
       "2002-05-08           NaN\n",
       "2002-05-09           NaN\n",
       "2002-05-10           NaN\n",
       "2002-05-13           NaN\n",
       "2002-05-14           NaN\n",
       "2002-05-15           NaN\n",
       "2002-05-16     41.397849\n",
       "2002-05-17     19.135802\n",
       "2002-05-20      0.000000\n",
       "2002-05-21      0.000000\n",
       "2002-05-22      0.000000\n",
       "2002-05-23      4.712042\n",
       "2002-05-24     20.858896\n",
       "2002-05-27     26.000000\n",
       "2002-05-28     12.666667\n",
       "2002-05-29     32.666667\n",
       "2002-05-30     24.666667\n",
       "2002-05-31     28.346457\n",
       "2002-06-03     17.431193\n",
       "2002-06-04     54.878049\n",
       "2002-06-05    100.000000\n",
       "2002-06-06     89.285714\n",
       "2002-06-07    100.000000\n",
       "                 ...    \n",
       "2017-11-28     25.862069\n",
       "2017-11-29      8.910891\n",
       "2017-11-30      0.000000\n",
       "2017-12-01      0.000000\n",
       "2017-12-04      8.808290\n",
       "2017-12-05     23.056995\n",
       "2017-12-06      3.108808\n",
       "2017-12-07     13.559322\n",
       "2017-12-08      6.779661\n",
       "2017-12-11      8.192090\n",
       "2017-12-12     14.666667\n",
       "2017-12-13      0.000000\n",
       "2017-12-14      9.972299\n",
       "2017-12-15     23.899371\n",
       "2017-12-18     79.347826\n",
       "2017-12-19    100.000000\n",
       "2017-12-20     24.657534\n",
       "2017-12-21     52.054795\n",
       "2017-12-22     74.429224\n",
       "2017-12-26     59.360731\n",
       "2017-12-27     57.534247\n",
       "2017-12-28     27.397260\n",
       "2017-12-29     32.876712\n",
       "2018-01-01     17.808219\n",
       "2018-01-02      0.000000\n",
       "2018-01-03      1.619433\n",
       "2018-01-04     81.376518\n",
       "2018-01-05     77.732794\n",
       "2018-01-08     75.303644\n",
       "2018-01-09     82.089552\n",
       "dtype: float64"
      ]
     },
     "execution_count": 132,
     "metadata": {},
     "output_type": "execute_result"
    }
   ],
   "source": [
    "stochastics = stochastics_oscillator(price,14)\n",
    "stochastics.rename(columns={'Close':'Stochastics'}, inplace=True)"
   ]
  },
  {
   "cell_type": "code",
   "execution_count": 133,
   "metadata": {
    "collapsed": true
   },
   "outputs": [],
   "source": [
    "atr = ATR(df,14)\n",
    "atr.rename(columns={0:'ATR'}, inplace=True)"
   ]
  },
  {
   "cell_type": "code",
   "execution_count": 134,
   "metadata": {
    "collapsed": false
   },
   "outputs": [],
   "source": [
    "final_data = pd.concat([price,dfPriceShift,macd,stochastics,atr], axis=1)"
   ]
  },
  {
   "cell_type": "code",
   "execution_count": 135,
   "metadata": {
    "collapsed": false
   },
   "outputs": [],
   "source": [
    "final_data.head()\n",
    "final_data.rename(columns={0:'CloseTarget'}, inplace=True)\n",
    "final_data.rename(columns={1:'MACD'}, inplace=True)\n",
    "final_data.rename(columns={2:'Stochastics'}, inplace=True)"
   ]
  },
  {
   "cell_type": "code",
   "execution_count": 136,
   "metadata": {
    "collapsed": false
   },
   "outputs": [
    {
     "data": {
      "text/html": [
       "<div>\n",
       "<table border=\"1\" class=\"dataframe\">\n",
       "  <thead>\n",
       "    <tr style=\"text-align: right;\">\n",
       "      <th></th>\n",
       "      <th>Close</th>\n",
       "      <th>CloseTarget</th>\n",
       "      <th>MACD</th>\n",
       "      <th>Stochastics</th>\n",
       "      <th>ATR</th>\n",
       "    </tr>\n",
       "    <tr>\n",
       "      <th>Date</th>\n",
       "      <th></th>\n",
       "      <th></th>\n",
       "      <th></th>\n",
       "      <th></th>\n",
       "      <th></th>\n",
       "    </tr>\n",
       "  </thead>\n",
       "  <tbody>\n",
       "    <tr>\n",
       "      <th>2002-04-26</th>\n",
       "      <td>37.40</td>\n",
       "      <td>38.60</td>\n",
       "      <td>0.000000</td>\n",
       "      <td>NaN</td>\n",
       "      <td>5.00</td>\n",
       "    </tr>\n",
       "    <tr>\n",
       "      <th>2002-04-29</th>\n",
       "      <td>38.60</td>\n",
       "      <td>40.10</td>\n",
       "      <td>0.012753</td>\n",
       "      <td>NaN</td>\n",
       "      <td>1.70</td>\n",
       "    </tr>\n",
       "    <tr>\n",
       "      <th>2002-04-30</th>\n",
       "      <td>40.10</td>\n",
       "      <td>44.80</td>\n",
       "      <td>0.042056</td>\n",
       "      <td>NaN</td>\n",
       "      <td>1.85</td>\n",
       "    </tr>\n",
       "    <tr>\n",
       "      <th>2002-05-02</th>\n",
       "      <td>44.80</td>\n",
       "      <td>46.45</td>\n",
       "      <td>0.166156</td>\n",
       "      <td>NaN</td>\n",
       "      <td>6.00</td>\n",
       "    </tr>\n",
       "    <tr>\n",
       "      <th>2002-05-03</th>\n",
       "      <td>46.45</td>\n",
       "      <td>46.70</td>\n",
       "      <td>0.249807</td>\n",
       "      <td>NaN</td>\n",
       "      <td>2.90</td>\n",
       "    </tr>\n",
       "  </tbody>\n",
       "</table>\n",
       "</div>"
      ],
      "text/plain": [
       "            Close  CloseTarget      MACD  Stochastics   ATR\n",
       "Date                                                       \n",
       "2002-04-26  37.40        38.60  0.000000          NaN  5.00\n",
       "2002-04-29  38.60        40.10  0.012753          NaN  1.70\n",
       "2002-04-30  40.10        44.80  0.042056          NaN  1.85\n",
       "2002-05-02  44.80        46.45  0.166156          NaN  6.00\n",
       "2002-05-03  46.45        46.70  0.249807          NaN  2.90"
      ]
     },
     "execution_count": 136,
     "metadata": {},
     "output_type": "execute_result"
    }
   ],
   "source": [
    "final_data.head()"
   ]
  },
  {
   "cell_type": "code",
   "execution_count": 137,
   "metadata": {
    "collapsed": false
   },
   "outputs": [],
   "source": [
    "final_data['Stochastics'].fillna(0, inplace=True)"
   ]
  },
  {
   "cell_type": "code",
   "execution_count": 138,
   "metadata": {
    "collapsed": false
   },
   "outputs": [
    {
     "data": {
      "text/plain": [
       "pandas.core.frame.DataFrame"
      ]
     },
     "execution_count": 138,
     "metadata": {},
     "output_type": "execute_result"
    }
   ],
   "source": [
    "type(final_data)"
   ]
  },
  {
   "cell_type": "code",
   "execution_count": 139,
   "metadata": {
    "collapsed": false
   },
   "outputs": [
    {
     "data": {
      "text/html": [
       "<div>\n",
       "<table border=\"1\" class=\"dataframe\">\n",
       "  <thead>\n",
       "    <tr style=\"text-align: right;\">\n",
       "      <th></th>\n",
       "      <th>Close</th>\n",
       "      <th>CloseTarget</th>\n",
       "      <th>MACD</th>\n",
       "      <th>Stochastics</th>\n",
       "      <th>ATR</th>\n",
       "    </tr>\n",
       "    <tr>\n",
       "      <th>Date</th>\n",
       "      <th></th>\n",
       "      <th></th>\n",
       "      <th></th>\n",
       "      <th></th>\n",
       "      <th></th>\n",
       "    </tr>\n",
       "  </thead>\n",
       "  <tbody>\n",
       "    <tr>\n",
       "      <th>2002-04-26</th>\n",
       "      <td>37.40</td>\n",
       "      <td>38.60</td>\n",
       "      <td>0.000000</td>\n",
       "      <td>0.0</td>\n",
       "      <td>5.00</td>\n",
       "    </tr>\n",
       "    <tr>\n",
       "      <th>2002-04-29</th>\n",
       "      <td>38.60</td>\n",
       "      <td>40.10</td>\n",
       "      <td>0.012753</td>\n",
       "      <td>0.0</td>\n",
       "      <td>1.70</td>\n",
       "    </tr>\n",
       "    <tr>\n",
       "      <th>2002-04-30</th>\n",
       "      <td>40.10</td>\n",
       "      <td>44.80</td>\n",
       "      <td>0.042056</td>\n",
       "      <td>0.0</td>\n",
       "      <td>1.85</td>\n",
       "    </tr>\n",
       "    <tr>\n",
       "      <th>2002-05-02</th>\n",
       "      <td>44.80</td>\n",
       "      <td>46.45</td>\n",
       "      <td>0.166156</td>\n",
       "      <td>0.0</td>\n",
       "      <td>6.00</td>\n",
       "    </tr>\n",
       "    <tr>\n",
       "      <th>2002-05-03</th>\n",
       "      <td>46.45</td>\n",
       "      <td>46.70</td>\n",
       "      <td>0.249807</td>\n",
       "      <td>0.0</td>\n",
       "      <td>2.90</td>\n",
       "    </tr>\n",
       "  </tbody>\n",
       "</table>\n",
       "</div>"
      ],
      "text/plain": [
       "            Close  CloseTarget      MACD  Stochastics   ATR\n",
       "Date                                                       \n",
       "2002-04-26  37.40        38.60  0.000000          0.0  5.00\n",
       "2002-04-29  38.60        40.10  0.012753          0.0  1.70\n",
       "2002-04-30  40.10        44.80  0.042056          0.0  1.85\n",
       "2002-05-02  44.80        46.45  0.166156          0.0  6.00\n",
       "2002-05-03  46.45        46.70  0.249807          0.0  2.90"
      ]
     },
     "execution_count": 139,
     "metadata": {},
     "output_type": "execute_result"
    }
   ],
   "source": [
    "final_data.head()"
   ]
  },
  {
   "cell_type": "code",
   "execution_count": 140,
   "metadata": {
    "collapsed": false
   },
   "outputs": [
    {
     "name": "stdout",
     "output_type": "stream",
     "text": [
      "<class 'pandas.core.frame.DataFrame'>\n",
      "Index: 3915 entries, 2002-04-26 to 2018-01-09\n",
      "Data columns (total 5 columns):\n",
      "Close          3915 non-null float64\n",
      "CloseTarget    3914 non-null float64\n",
      "MACD           3915 non-null float64\n",
      "Stochastics    3915 non-null float64\n",
      "ATR            3915 non-null float64\n",
      "dtypes: float64(5)\n",
      "memory usage: 183.5+ KB\n"
     ]
    }
   ],
   "source": [
    "final_data.info()"
   ]
  },
  {
   "cell_type": "code",
   "execution_count": 141,
   "metadata": {
    "collapsed": false
   },
   "outputs": [
    {
     "data": {
      "text/html": [
       "<div>\n",
       "<table border=\"1\" class=\"dataframe\">\n",
       "  <thead>\n",
       "    <tr style=\"text-align: right;\">\n",
       "      <th></th>\n",
       "      <th>Close</th>\n",
       "      <th>CloseTarget</th>\n",
       "      <th>MACD</th>\n",
       "      <th>Stochastics</th>\n",
       "      <th>ATR</th>\n",
       "    </tr>\n",
       "    <tr>\n",
       "      <th>Date</th>\n",
       "      <th></th>\n",
       "      <th></th>\n",
       "      <th></th>\n",
       "      <th></th>\n",
       "      <th></th>\n",
       "    </tr>\n",
       "  </thead>\n",
       "  <tbody>\n",
       "    <tr>\n",
       "      <th>2018-01-03</th>\n",
       "      <td>166.60</td>\n",
       "      <td>176.45</td>\n",
       "      <td>-1.604985</td>\n",
       "      <td>1.619433</td>\n",
       "      <td>3.10</td>\n",
       "    </tr>\n",
       "    <tr>\n",
       "      <th>2018-01-04</th>\n",
       "      <td>176.45</td>\n",
       "      <td>176.00</td>\n",
       "      <td>-0.907958</td>\n",
       "      <td>81.376518</td>\n",
       "      <td>14.30</td>\n",
       "    </tr>\n",
       "    <tr>\n",
       "      <th>2018-01-05</th>\n",
       "      <td>176.00</td>\n",
       "      <td>175.70</td>\n",
       "      <td>-0.411781</td>\n",
       "      <td>77.732794</td>\n",
       "      <td>5.10</td>\n",
       "    </tr>\n",
       "    <tr>\n",
       "      <th>2018-01-08</th>\n",
       "      <td>175.70</td>\n",
       "      <td>174.65</td>\n",
       "      <td>-0.061824</td>\n",
       "      <td>75.303644</td>\n",
       "      <td>3.05</td>\n",
       "    </tr>\n",
       "    <tr>\n",
       "      <th>2018-01-09</th>\n",
       "      <td>174.65</td>\n",
       "      <td>NaN</td>\n",
       "      <td>0.120088</td>\n",
       "      <td>82.089552</td>\n",
       "      <td>3.85</td>\n",
       "    </tr>\n",
       "  </tbody>\n",
       "</table>\n",
       "</div>"
      ],
      "text/plain": [
       "             Close  CloseTarget      MACD  Stochastics    ATR\n",
       "Date                                                         \n",
       "2018-01-03  166.60       176.45 -1.604985     1.619433   3.10\n",
       "2018-01-04  176.45       176.00 -0.907958    81.376518  14.30\n",
       "2018-01-05  176.00       175.70 -0.411781    77.732794   5.10\n",
       "2018-01-08  175.70       174.65 -0.061824    75.303644   3.05\n",
       "2018-01-09  174.65          NaN  0.120088    82.089552   3.85"
      ]
     },
     "execution_count": 141,
     "metadata": {},
     "output_type": "execute_result"
    }
   ],
   "source": [
    "final_data.tail()"
   ]
  },
  {
   "cell_type": "code",
   "execution_count": 142,
   "metadata": {
    "collapsed": true
   },
   "outputs": [],
   "source": [
    "final_data = final_data.dropna()"
   ]
  },
  {
   "cell_type": "code",
   "execution_count": 143,
   "metadata": {
    "collapsed": false
   },
   "outputs": [
    {
     "data": {
      "text/html": [
       "<div>\n",
       "<table border=\"1\" class=\"dataframe\">\n",
       "  <thead>\n",
       "    <tr style=\"text-align: right;\">\n",
       "      <th></th>\n",
       "      <th>Close</th>\n",
       "      <th>CloseTarget</th>\n",
       "      <th>MACD</th>\n",
       "      <th>Stochastics</th>\n",
       "      <th>ATR</th>\n",
       "    </tr>\n",
       "    <tr>\n",
       "      <th>Date</th>\n",
       "      <th></th>\n",
       "      <th></th>\n",
       "      <th></th>\n",
       "      <th></th>\n",
       "      <th></th>\n",
       "    </tr>\n",
       "  </thead>\n",
       "  <tbody>\n",
       "    <tr>\n",
       "      <th>2018-01-02</th>\n",
       "      <td>166.40</td>\n",
       "      <td>166.60</td>\n",
       "      <td>-1.508052</td>\n",
       "      <td>0.000000</td>\n",
       "      <td>5.50</td>\n",
       "    </tr>\n",
       "    <tr>\n",
       "      <th>2018-01-03</th>\n",
       "      <td>166.60</td>\n",
       "      <td>176.45</td>\n",
       "      <td>-1.604985</td>\n",
       "      <td>1.619433</td>\n",
       "      <td>3.10</td>\n",
       "    </tr>\n",
       "    <tr>\n",
       "      <th>2018-01-04</th>\n",
       "      <td>176.45</td>\n",
       "      <td>176.00</td>\n",
       "      <td>-0.907958</td>\n",
       "      <td>81.376518</td>\n",
       "      <td>14.30</td>\n",
       "    </tr>\n",
       "    <tr>\n",
       "      <th>2018-01-05</th>\n",
       "      <td>176.00</td>\n",
       "      <td>175.70</td>\n",
       "      <td>-0.411781</td>\n",
       "      <td>77.732794</td>\n",
       "      <td>5.10</td>\n",
       "    </tr>\n",
       "    <tr>\n",
       "      <th>2018-01-08</th>\n",
       "      <td>175.70</td>\n",
       "      <td>174.65</td>\n",
       "      <td>-0.061824</td>\n",
       "      <td>75.303644</td>\n",
       "      <td>3.05</td>\n",
       "    </tr>\n",
       "  </tbody>\n",
       "</table>\n",
       "</div>"
      ],
      "text/plain": [
       "             Close  CloseTarget      MACD  Stochastics    ATR\n",
       "Date                                                         \n",
       "2018-01-02  166.40       166.60 -1.508052     0.000000   5.50\n",
       "2018-01-03  166.60       176.45 -1.604985     1.619433   3.10\n",
       "2018-01-04  176.45       176.00 -0.907958    81.376518  14.30\n",
       "2018-01-05  176.00       175.70 -0.411781    77.732794   5.10\n",
       "2018-01-08  175.70       174.65 -0.061824    75.303644   3.05"
      ]
     },
     "execution_count": 143,
     "metadata": {},
     "output_type": "execute_result"
    }
   ],
   "source": [
    "final_data.tail()"
   ]
  },
  {
   "cell_type": "code",
   "execution_count": 144,
   "metadata": {
    "collapsed": true
   },
   "outputs": [],
   "source": [
    "final_data.to_csv('PNB_Processed.csv',index=False)"
   ]
  },
  {
   "cell_type": "code",
   "execution_count": null,
   "metadata": {
    "collapsed": true
   },
   "outputs": [],
   "source": []
  }
 ],
 "metadata": {
  "anaconda-cloud": {},
  "kernelspec": {
   "display_name": "Python [conda root]",
   "language": "python",
   "name": "conda-root-py"
  },
  "language_info": {
   "codemirror_mode": {
    "name": "ipython",
    "version": 3
   },
   "file_extension": ".py",
   "mimetype": "text/x-python",
   "name": "python",
   "nbconvert_exporter": "python",
   "pygments_lexer": "ipython3",
   "version": "3.5.2"
  }
 },
 "nbformat": 4,
 "nbformat_minor": 2
}
