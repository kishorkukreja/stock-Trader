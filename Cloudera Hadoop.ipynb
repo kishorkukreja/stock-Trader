{
 "cells": [
  {
   "cell_type": "code",
   "execution_count": 18,
   "metadata": {
    "collapsed": true
   },
   "outputs": [],
   "source": [
    "connection_string = '''DSN=impala;\n",
    "HOST=impalad.genmills.com;\n",
    "Database=enterprise;\n",
    "PORT=21050'''"
   ]
  },
  {
   "cell_type": "code",
   "execution_count": 19,
   "metadata": {
    "collapsed": true
   },
   "outputs": [],
   "source": [
    "import numpy as np\n",
    "import pandas as pd"
   ]
  },
  {
   "cell_type": "code",
   "execution_count": 20,
   "metadata": {
    "collapsed": true
   },
   "outputs": [],
   "source": [
    "import pyodbc"
   ]
  },
  {
   "cell_type": "code",
   "execution_count": 21,
   "metadata": {
    "collapsed": false
   },
   "outputs": [],
   "source": [
    "connection = pyodbc.connect(connection_string, autocommit=True)"
   ]
  },
  {
   "cell_type": "code",
   "execution_count": 22,
   "metadata": {
    "collapsed": true
   },
   "outputs": [],
   "source": [
    "cursor = connection.cursor()"
   ]
  },
  {
   "cell_type": "code",
   "execution_count": 29,
   "metadata": {
    "collapsed": false
   },
   "outputs": [
    {
     "data": {
      "text/plain": [
       "<pyodbc.Cursor at 0x1987a11f8a0>"
      ]
     },
     "execution_count": 29,
     "metadata": {},
     "output_type": "execute_result"
    }
   ],
   "source": [
    "cursor.execute('SELECT * FROM enterprise.sales_invoice_header_item_na LIMIT 100')"
   ]
  },
  {
   "cell_type": "code",
   "execution_count": 30,
   "metadata": {
    "collapsed": true
   },
   "outputs": [],
   "source": [
    "def as_pandas(cursor):\n",
    "    names = [metadata[0] for metadata in cursor.description]\n",
    "    return pd.DataFrame([dict(zip(names, row)) for row in cursor], columns=names)"
   ]
  },
  {
   "cell_type": "code",
   "execution_count": 31,
   "metadata": {
    "collapsed": true
   },
   "outputs": [],
   "source": [
    "df = as_pandas(cursor)"
   ]
  },
  {
   "cell_type": "code",
   "execution_count": 33,
   "metadata": {
    "collapsed": false
   },
   "outputs": [
    {
     "data": {
      "text/html": [
       "<div>\n",
       "<table border=\"1\" class=\"dataframe\">\n",
       "  <thead>\n",
       "    <tr style=\"text-align: right;\">\n",
       "      <th></th>\n",
       "      <th>billing_document_nbr</th>\n",
       "      <th>billing_document_item_nbr</th>\n",
       "      <th>sap_division_cd</th>\n",
       "      <th>sales_organization_cd</th>\n",
       "      <th>distribution_channel_cd</th>\n",
       "      <th>sap_division_desc</th>\n",
       "      <th>sales_organization_desc</th>\n",
       "      <th>distribution_channel_desc</th>\n",
       "      <th>billing_document_count_qty</th>\n",
       "      <th>customer_purchase_order_nbr</th>\n",
       "      <th>...</th>\n",
       "      <th>prd_product_hier_size_flavor_cd</th>\n",
       "      <th>bill_of_material_category_cd</th>\n",
       "      <th>prd_product_hier_sub_pnl_cd</th>\n",
       "      <th>base_product_cd</th>\n",
       "      <th>special_pack_pricing_fg</th>\n",
       "      <th>work_breakdown_structure_element_txt</th>\n",
       "      <th>billing_item_count_qty</th>\n",
       "      <th>item_fiscal_year_variant_cd</th>\n",
       "      <th>bw_extract_sales_order_referral_campaign_txt</th>\n",
       "      <th>hadoop_update_ts</th>\n",
       "    </tr>\n",
       "  </thead>\n",
       "  <tbody>\n",
       "    <tr>\n",
       "      <th>95</th>\n",
       "      <td>0090463522</td>\n",
       "      <td>10</td>\n",
       "      <td>GO</td>\n",
       "      <td>GMCI</td>\n",
       "      <td>RT</td>\n",
       "      <td>General Order</td>\n",
       "      <td>GMI Canada-Dry</td>\n",
       "      <td>Retail</td>\n",
       "      <td>1</td>\n",
       "      <td>641502</td>\n",
       "      <td>...</td>\n",
       "      <td></td>\n",
       "      <td></td>\n",
       "      <td></td>\n",
       "      <td>000000000027846000</td>\n",
       "      <td>N</td>\n",
       "      <td>None</td>\n",
       "      <td>None</td>\n",
       "      <td>07</td>\n",
       "      <td>None</td>\n",
       "      <td>2017-10-04 00:30:57</td>\n",
       "    </tr>\n",
       "    <tr>\n",
       "      <th>96</th>\n",
       "      <td>0090463522</td>\n",
       "      <td>20</td>\n",
       "      <td>GO</td>\n",
       "      <td>GMCI</td>\n",
       "      <td>RT</td>\n",
       "      <td>General Order</td>\n",
       "      <td>GMI Canada-Dry</td>\n",
       "      <td>Retail</td>\n",
       "      <td>1</td>\n",
       "      <td>641502</td>\n",
       "      <td>...</td>\n",
       "      <td></td>\n",
       "      <td></td>\n",
       "      <td></td>\n",
       "      <td>000000000029853000</td>\n",
       "      <td>N</td>\n",
       "      <td>None</td>\n",
       "      <td>None</td>\n",
       "      <td>07</td>\n",
       "      <td>None</td>\n",
       "      <td>2017-10-04 00:30:57</td>\n",
       "    </tr>\n",
       "    <tr>\n",
       "      <th>97</th>\n",
       "      <td>0090463522</td>\n",
       "      <td>30</td>\n",
       "      <td>GO</td>\n",
       "      <td>GMCI</td>\n",
       "      <td>RT</td>\n",
       "      <td>General Order</td>\n",
       "      <td>GMI Canada-Dry</td>\n",
       "      <td>Retail</td>\n",
       "      <td>1</td>\n",
       "      <td>641502</td>\n",
       "      <td>...</td>\n",
       "      <td></td>\n",
       "      <td></td>\n",
       "      <td></td>\n",
       "      <td>000000000042303000</td>\n",
       "      <td>N</td>\n",
       "      <td>None</td>\n",
       "      <td>None</td>\n",
       "      <td>07</td>\n",
       "      <td>None</td>\n",
       "      <td>2017-10-04 00:30:57</td>\n",
       "    </tr>\n",
       "    <tr>\n",
       "      <th>98</th>\n",
       "      <td>0090463554</td>\n",
       "      <td>260</td>\n",
       "      <td>GO</td>\n",
       "      <td>GMCI</td>\n",
       "      <td>RT</td>\n",
       "      <td>General Order</td>\n",
       "      <td>GMI Canada-Dry</td>\n",
       "      <td>Retail</td>\n",
       "      <td>1</td>\n",
       "      <td>94465</td>\n",
       "      <td>...</td>\n",
       "      <td></td>\n",
       "      <td></td>\n",
       "      <td></td>\n",
       "      <td>000000000045471000</td>\n",
       "      <td>N</td>\n",
       "      <td>None</td>\n",
       "      <td>None</td>\n",
       "      <td>07</td>\n",
       "      <td>None</td>\n",
       "      <td>2017-10-04 00:30:57</td>\n",
       "    </tr>\n",
       "    <tr>\n",
       "      <th>99</th>\n",
       "      <td>0090463554</td>\n",
       "      <td>130</td>\n",
       "      <td>GO</td>\n",
       "      <td>GMCI</td>\n",
       "      <td>RT</td>\n",
       "      <td>General Order</td>\n",
       "      <td>GMI Canada-Dry</td>\n",
       "      <td>Retail</td>\n",
       "      <td>1</td>\n",
       "      <td>94465</td>\n",
       "      <td>...</td>\n",
       "      <td></td>\n",
       "      <td></td>\n",
       "      <td></td>\n",
       "      <td>000000000188056000</td>\n",
       "      <td>N</td>\n",
       "      <td>None</td>\n",
       "      <td>None</td>\n",
       "      <td>07</td>\n",
       "      <td>None</td>\n",
       "      <td>2017-10-04 00:30:57</td>\n",
       "    </tr>\n",
       "  </tbody>\n",
       "</table>\n",
       "<p>5 rows × 196 columns</p>\n",
       "</div>"
      ],
      "text/plain": [
       "   billing_document_nbr  billing_document_item_nbr sap_division_cd  \\\n",
       "95           0090463522                         10              GO   \n",
       "96           0090463522                         20              GO   \n",
       "97           0090463522                         30              GO   \n",
       "98           0090463554                        260              GO   \n",
       "99           0090463554                        130              GO   \n",
       "\n",
       "   sales_organization_cd distribution_channel_cd sap_division_desc  \\\n",
       "95                  GMCI                      RT     General Order   \n",
       "96                  GMCI                      RT     General Order   \n",
       "97                  GMCI                      RT     General Order   \n",
       "98                  GMCI                      RT     General Order   \n",
       "99                  GMCI                      RT     General Order   \n",
       "\n",
       "   sales_organization_desc distribution_channel_desc  \\\n",
       "95          GMI Canada-Dry                    Retail   \n",
       "96          GMI Canada-Dry                    Retail   \n",
       "97          GMI Canada-Dry                    Retail   \n",
       "98          GMI Canada-Dry                    Retail   \n",
       "99          GMI Canada-Dry                    Retail   \n",
       "\n",
       "    billing_document_count_qty customer_purchase_order_nbr  \\\n",
       "95                           1                      641502   \n",
       "96                           1                      641502   \n",
       "97                           1                      641502   \n",
       "98                           1                       94465   \n",
       "99                           1                       94465   \n",
       "\n",
       "           ...         prd_product_hier_size_flavor_cd  \\\n",
       "95         ...                                           \n",
       "96         ...                                           \n",
       "97         ...                                           \n",
       "98         ...                                           \n",
       "99         ...                                           \n",
       "\n",
       "   bill_of_material_category_cd prd_product_hier_sub_pnl_cd  \\\n",
       "95                                                            \n",
       "96                                                            \n",
       "97                                                            \n",
       "98                                                            \n",
       "99                                                            \n",
       "\n",
       "       base_product_cd special_pack_pricing_fg  \\\n",
       "95  000000000027846000                       N   \n",
       "96  000000000029853000                       N   \n",
       "97  000000000042303000                       N   \n",
       "98  000000000045471000                       N   \n",
       "99  000000000188056000                       N   \n",
       "\n",
       "   work_breakdown_structure_element_txt billing_item_count_qty  \\\n",
       "95                                 None                   None   \n",
       "96                                 None                   None   \n",
       "97                                 None                   None   \n",
       "98                                 None                   None   \n",
       "99                                 None                   None   \n",
       "\n",
       "   item_fiscal_year_variant_cd bw_extract_sales_order_referral_campaign_txt  \\\n",
       "95                          07                                         None   \n",
       "96                          07                                         None   \n",
       "97                          07                                         None   \n",
       "98                          07                                         None   \n",
       "99                          07                                         None   \n",
       "\n",
       "      hadoop_update_ts  \n",
       "95 2017-10-04 00:30:57  \n",
       "96 2017-10-04 00:30:57  \n",
       "97 2017-10-04 00:30:57  \n",
       "98 2017-10-04 00:30:57  \n",
       "99 2017-10-04 00:30:57  \n",
       "\n",
       "[5 rows x 196 columns]"
      ]
     },
     "execution_count": 33,
     "metadata": {},
     "output_type": "execute_result"
    }
   ],
   "source": [
    "df.tail()"
   ]
  },
  {
   "cell_type": "code",
   "execution_count": 28,
   "metadata": {
    "collapsed": false
   },
   "outputs": [
    {
     "data": {
      "text/plain": [
       "(100, 8)"
      ]
     },
     "execution_count": 28,
     "metadata": {},
     "output_type": "execute_result"
    }
   ],
   "source": [
    "df.shape"
   ]
  },
  {
   "cell_type": "code",
   "execution_count": 36,
   "metadata": {
    "collapsed": false
   },
   "outputs": [
    {
     "data": {
      "text/plain": [
       "<bound method NDFrame.isnull of 0      72.000\n",
       "1     180.000\n",
       "2      96.000\n",
       "3      96.000\n",
       "4      96.000\n",
       "5      96.000\n",
       "6      90.000\n",
       "7      80.000\n",
       "8      96.000\n",
       "9      30.000\n",
       "10          0\n",
       "11      2.000\n",
       "12     12.000\n",
       "13     66.000\n",
       "14      6.000\n",
       "15     32.000\n",
       "16     16.000\n",
       "17     12.000\n",
       "18      9.000\n",
       "19          0\n",
       "20     24.000\n",
       "21     12.000\n",
       "22      5.000\n",
       "23     18.000\n",
       "24      1.000\n",
       "25     55.000\n",
       "26      6.000\n",
       "27      6.000\n",
       "28      1.000\n",
       "29      5.000\n",
       "       ...   \n",
       "70    120.000\n",
       "71    170.000\n",
       "72    168.000\n",
       "73      1.000\n",
       "74      3.000\n",
       "75      1.000\n",
       "76      1.000\n",
       "77      1.000\n",
       "78      3.000\n",
       "79      1.000\n",
       "80      1.000\n",
       "81     14.000\n",
       "82      1.000\n",
       "83      1.000\n",
       "84     25.000\n",
       "85          0\n",
       "86     12.000\n",
       "87     40.000\n",
       "88     12.000\n",
       "89     24.000\n",
       "90     27.000\n",
       "91     30.000\n",
       "92     40.000\n",
       "93     16.000\n",
       "94     20.000\n",
       "95    192.000\n",
       "96    272.000\n",
       "97    216.000\n",
       "98     11.000\n",
       "99     40.000\n",
       "Name: billing_base_uom_qty, dtype: object>"
      ]
     },
     "execution_count": 36,
     "metadata": {},
     "output_type": "execute_result"
    }
   ],
   "source": [
    "df.billing_base_uom_qty.isnull"
   ]
  },
  {
   "cell_type": "code",
   "execution_count": null,
   "metadata": {
    "collapsed": true
   },
   "outputs": [],
   "source": []
  }
 ],
 "metadata": {
  "anaconda-cloud": {},
  "kernelspec": {
   "display_name": "Python [conda root]",
   "language": "python",
   "name": "conda-root-py"
  },
  "language_info": {
   "codemirror_mode": {
    "name": "ipython",
    "version": 3
   },
   "file_extension": ".py",
   "mimetype": "text/x-python",
   "name": "python",
   "nbconvert_exporter": "python",
   "pygments_lexer": "ipython3",
   "version": "3.5.2"
  }
 },
 "nbformat": 4,
 "nbformat_minor": 2
}
